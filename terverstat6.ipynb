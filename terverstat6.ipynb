{
 "cells": [
  {
   "cell_type": "markdown",
   "id": "71fb6dcd",
   "metadata": {},
   "source": [
    "## 1.\n",
    "Даны значения величины заработной платы заемщиков банка (zp) и значения  \n",
    "их поведенческого кредитного скоринга (ks):  \n",
    "zp = [35, 45, 190, 200, 40, 70, 54, 150, 120, 110],  \n",
    "ks = [401, 574, 874, 919, 459, 739, 653, 902, 746, 832].  \n",
    "Найдите ковариацию этих двух величин с помощью элементарных действий, а  \n",
    "затем с помощью функции cov из numpy  \n",
    "Полученные значения должны быть равны.  \n",
    "Найдите коэффициент корреляции Пирсона с помощью ковариации и  \n",
    "среднеквадратичных отклонений двух признаков, а затем с использованием  \n",
    "функций из библиотек numpy и pandas.\n"
   ]
  },
  {
   "cell_type": "code",
   "execution_count": 1,
   "id": "6b1c0551",
   "metadata": {},
   "outputs": [],
   "source": [
    "import numpy as np\n",
    "import scipy.stats as stats\n",
    "from statsmodels.stats.weightstats import _tconfint_generic as t_st\n",
    "from statsmodels.stats.weightstats import _zconfint_generic as z_st"
   ]
  },
  {
   "cell_type": "markdown",
   "id": "c108f764",
   "metadata": {},
   "source": [
    "Найдем коварацию 2 св  \n",
    "Коварация = матожидание от произведения двух СВ минус произведение матожидания СВ"
   ]
  },
  {
   "cell_type": "code",
   "execution_count": 43,
   "id": "b473c8a0",
   "metadata": {},
   "outputs": [
    {
     "name": "stdout",
     "output_type": "stream",
     "text": [
      "9157.84\n"
     ]
    }
   ],
   "source": [
    "zp = np.array([35, 45, 190, 200, 40, 70, 54, 150, 120, 110])\n",
    "ks = np.array([401, 574, 874, 919, 459, 739, 653, 902, 746, 832])\n",
    "zp_mean = zp.mean() # мат ожидание 1 св\n",
    "ks_mean = ks.mean() # мат ожидание 2 св\n",
    "m_zpks = (zp*ks).mean() # матожидание произведения 1 св на др св\n",
    "cov = m_zpks - zp_mean*ks_mean # матожидание произведения двух св минус произведение матожидания 1св на др\n",
    "print(round(cov,2))"
   ]
  },
  {
   "cell_type": "markdown",
   "id": "d253874c",
   "metadata": {},
   "source": [
    "Найдем коварацию через встроеную в np функцию"
   ]
  },
  {
   "cell_type": "code",
   "execution_count": 34,
   "id": "0d2039e4",
   "metadata": {},
   "outputs": [
    {
     "data": {
      "text/plain": [
       "9157.84"
      ]
     },
     "execution_count": 34,
     "metadata": {},
     "output_type": "execute_result"
    }
   ],
   "source": [
    "np.cov(zp,ks, ddof=0)[1,0] # возврашает кв матрицу ковариации двух соответствующих выборок \n",
    "# Cij=cov(xi,xj).  элементы главной диагонали данной матрицы Cii\n",
    "# будут представлять собой дисперсии соответствующей выборки xi, а эл побочной диагонали коварацию"
   ]
  },
  {
   "cell_type": "markdown",
   "id": "45cdbaa2",
   "metadata": {},
   "source": [
    "Докажем что элементы главной диагонали ковариционной матрицы будут представлять собой дисперсии соответствующей св, а эл побочной диагонали коварацию велечин"
   ]
  },
  {
   "cell_type": "code",
   "execution_count": 22,
   "id": "e9f2cb4e",
   "metadata": {
    "scrolled": true
   },
   "outputs": [
    {
     "data": {
      "text/plain": [
       "array([[ 3494.64,  9157.84],\n",
       "       [ 9157.84, 30468.89]])"
      ]
     },
     "execution_count": 22,
     "metadata": {},
     "output_type": "execute_result"
    }
   ],
   "source": [
    "np.cov(zp,ks, ddof=0)"
   ]
  },
  {
   "cell_type": "code",
   "execution_count": 41,
   "id": "3f5adfdf",
   "metadata": {},
   "outputs": [
    {
     "name": "stdout",
     "output_type": "stream",
     "text": [
      "дисперсия zp - 3494.64, дисперсия ks- 30468.89\n"
     ]
    }
   ],
   "source": [
    "print(f'дисперсия zp - {round(zp.std()**2,2)}, дисперсия ks- {round(ks.std()**2,2)}')"
   ]
  },
  {
   "cell_type": "markdown",
   "id": "8095119f",
   "metadata": {},
   "source": [
    "Найдем коэфицент кореляции пирсона\n",
    "коэфицент кореляции пирсона - матожидание от произведения двух СВ минус произведение матожидания СВ деленое на произведение дисперсии этих 2 СВ"
   ]
  },
  {
   "cell_type": "code",
   "execution_count": 57,
   "id": "459275a8",
   "metadata": {},
   "outputs": [
    {
     "data": {
      "text/plain": [
       "0.8875"
      ]
     },
     "execution_count": 57,
     "metadata": {},
     "output_type": "execute_result"
    }
   ],
   "source": [
    "cor_pearson = cov/(zp.std()*ks.std())\n",
    "round(cor_pirson,4)"
   ]
  },
  {
   "cell_type": "code",
   "execution_count": 58,
   "id": "145775c2",
   "metadata": {},
   "outputs": [
    {
     "data": {
      "text/plain": [
       "0.8875"
      ]
     },
     "execution_count": 58,
     "metadata": {},
     "output_type": "execute_result"
    }
   ],
   "source": [
    "cor_pearson2 = ((zp*ks).mean()-zp.mean()*ks.mean())/(zp.std()*ks.std())\n",
    "round(cor_pearson2,4)"
   ]
  },
  {
   "cell_type": "code",
   "execution_count": 59,
   "id": "7f46f7f8",
   "metadata": {},
   "outputs": [
    {
     "data": {
      "text/plain": [
       "0.8875"
      ]
     },
     "execution_count": 59,
     "metadata": {},
     "output_type": "execute_result"
    }
   ],
   "source": [
    "round(np.corrcoef(zp,ks)[0,1],4)"
   ]
  },
  {
   "cell_type": "code",
   "execution_count": 60,
   "id": "2a66274b",
   "metadata": {},
   "outputs": [
    {
     "data": {
      "text/plain": [
       "array([[1.        , 0.88749009],\n",
       "       [0.88749009, 1.        ]])"
      ]
     },
     "execution_count": 60,
     "metadata": {},
     "output_type": "execute_result"
    }
   ],
   "source": [
    "np.corrcoef(zp,ks) # возвращается кореляционная матрица по гд 1 по побоччной коэф кореляции"
   ]
  },
  {
   "cell_type": "markdown",
   "id": "2afdf32e",
   "metadata": {},
   "source": [
    "## 2.\n",
    " Измерены значения IQ выборки студентов, \n",
    "обучающихся в местных технических вузах:  \n",
    "131, 125, 115, 122, 131, 115, 107, 99, 125, 111.  \n",
    "Известно, что в генеральной совокупности IQ распределен нормально.  \n",
    "Найдите доверительный интервал для математического ожидания с  \n",
    "надежностью 0.95.\n"
   ]
  },
  {
   "cell_type": "markdown",
   "id": "72040ed1",
   "metadata": {},
   "source": [
    "Поскольку нам не известно ст отклонение  ГС и  ГС не было проанализировано то наш критерий расчета дов интервала критерий стьюдента"
   ]
  },
  {
   "cell_type": "code",
   "execution_count": 82,
   "id": "1b6167ef",
   "metadata": {},
   "outputs": [
    {
     "name": "stdout",
     "output_type": "stream",
     "text": [
      "При задоном p уровне 0.95 доверительный интервал - от  111 до  125\n"
     ]
    }
   ],
   "source": [
    "iq = np.array([131, 125, 115, 122, 131, 115, 107, 99, 125, 111])\n",
    "iq_std_error = iq.std()/(len(iq)**0.5)\n",
    "lower, upper = t_st(iq.mean(), iq_std_error, len(iq)-1, 0.05, 'two-sided')\n",
    "print('При задоном p уровне 0.95 доверительный интервал - от ',int(round(lower,0)),'до ', int(round(upper,0))) # доверительный интервал в статистеке округляют до точности входных данных"
   ]
  },
  {
   "cell_type": "code",
   "execution_count": null,
   "id": "df481619",
   "metadata": {},
   "outputs": [],
   "source": [
    "Более верный расчет с расчетом несмещеной десперсии т.к выборка меньше 100 и работаем мы с коэфицентом стьюдента"
   ]
  },
  {
   "cell_type": "code",
   "execution_count": 92,
   "id": "aefe8faf",
   "metadata": {},
   "outputs": [
    {
     "name": "stdout",
     "output_type": "stream",
     "text": [
      "При задоном p уровне 0.95 доверительный интервал - от  111 до  126\n"
     ]
    }
   ],
   "source": [
    "sq_list = [(el-iq.mean())**2 for el in iq]\n",
    "variance_unbased = sum(sq_list)/(len(iq)-1) # несмещеная дисперсия\n",
    "std_unbaiased = np.sqrt(variance_unbased)\n",
    "iq_std_error = std_unbaiased/(len(iq)**0.5)\n",
    "lower, upper = t_st(iq.mean(), iq_std_error, len(iq)-1, 0.05, 'two-sided')\n",
    "print('При задоном p уровне 0.95 доверительный интервал - от ',int(round(lower,0)),'до ', int(round(upper,0))) # доверительный интервал в статистеке округляют до точности входных данных"
   ]
  },
  {
   "cell_type": "code",
   "execution_count": 96,
   "id": "e385afb2",
   "metadata": {},
   "outputs": [],
   "source": [
    "def conf_interval_t(var, p=0.95): # var - np массив\n",
    "    from statsmodels.stats.weightstats import _tconfint_generic as t_st\n",
    "    sq_list = [(el-var.mean())**2 for el in var]\n",
    "    variance_unbased = sum(sq_list)/(len(var)-1) # несмещеная дисперсия\n",
    "    std_unbaiased = np.sqrt(variance_unbased)\n",
    "    std_error = std_unbaiased/(len(var)**0.5)\n",
    "    lower, upper = t_st(var.mean(), std_error, len(var)-1, 1-p, 'two-sided')\n",
    "    print('При задоном p уровне 0.95 доверительный интервал - от ',int(round(lower,0)),'до ', int(round(upper,0))) # доверительный интервал в статистеке округляют до точности входных данных"
   ]
  },
  {
   "cell_type": "code",
   "execution_count": 97,
   "id": "c7772af9",
   "metadata": {},
   "outputs": [
    {
     "name": "stdout",
     "output_type": "stream",
     "text": [
      "При задоном p уровне 0.95 доверительный интервал - от  111 до  126\n"
     ]
    }
   ],
   "source": [
    "a = conf_interval_t(var=np.array([131, 125, 115, 122, 131, 115, 107, 99, 125, 111]))\n",
    "a"
   ]
  },
  {
   "cell_type": "markdown",
   "id": "2b638a66",
   "metadata": {},
   "source": [
    "## 3.\n",
    "Известно, что рост футболистов в сборной распределен нормально с  \n",
    "дисперсией генеральной совокупности, равной 25 кв.см. Объем выборки равен  \n",
    "27, среднее выборочное составляет 174.2. Найдите доверительный интервал  \n",
    "для математического ожидания с надежностью 0.95."
   ]
  },
  {
   "cell_type": "markdown",
   "id": "29872f84",
   "metadata": {},
   "source": [
    "Известно ст откланение следовательно гс была проанализирована а занчит наш критерий  \n",
    "для поиска дов интервала Z критерий фишера"
   ]
  },
  {
   "cell_type": "code",
   "execution_count": 100,
   "id": "719d3287",
   "metadata": {},
   "outputs": [
    {
     "name": "stdout",
     "output_type": "stream",
     "text": [
      "При задоном p уровне 0.95 доверительный интервал - от  172 до  176\n"
     ]
    }
   ],
   "source": [
    "X_med_v = 174.2\n",
    "sigma_gs = 5\n",
    "n=27\n",
    "lower, upper = z_st(X_med_v, sigma_gs/np.sqrt(n),0.05,'two-sided')\n",
    "print('При задоном p уровне 0.95 доверительный интервал - от ',int(round(lower,0)),'до ', int(round(upper,0))) # доверительный интервал в статистеке округляют до точности входных "
   ]
  },
  {
   "cell_type": "code",
   "execution_count": 98,
   "id": "fb36336f",
   "metadata": {},
   "outputs": [],
   "source": [
    "def conf_interval_z(X_med_v, sigma_gs, n, p=0.95): # var - np массив\n",
    "    from statsmodels.stats.weightstats import _zconfint_generic as z_st\n",
    "    lower, upper = z_st(X_med_v, sigma_gs/np.sqrt(n),1-p,'two-sided')\n",
    "    print('При задоном p уровне 0.95 доверительный интервал - от ',int(round(lower,0)),'до ', int(round(upper,0))) # доверительный интервал в статистеке округляют до точности входных данных"
   ]
  },
  {
   "cell_type": "code",
   "execution_count": 99,
   "id": "7a07defe",
   "metadata": {},
   "outputs": [
    {
     "name": "stdout",
     "output_type": "stream",
     "text": [
      "При задоном p уровне 0.95 доверительный интервал - от  172 до  176\n"
     ]
    }
   ],
   "source": [
    "conf_interval_z(174.2, 5, 27)"
   ]
  }
 ],
 "metadata": {
  "kernelspec": {
   "display_name": "Python 3 (ipykernel)",
   "language": "python",
   "name": "python3"
  },
  "language_info": {
   "codemirror_mode": {
    "name": "ipython",
    "version": 3
   },
   "file_extension": ".py",
   "mimetype": "text/x-python",
   "name": "python",
   "nbconvert_exporter": "python",
   "pygments_lexer": "ipython3",
   "version": "3.9.13"
  }
 },
 "nbformat": 4,
 "nbformat_minor": 5
}
