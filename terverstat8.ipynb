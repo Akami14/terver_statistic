{
 "cells": [
  {
   "cell_type": "markdown",
   "id": "0e78f04f",
   "metadata": {},
   "source": [
    "Провести дисперсионный анализ для определения того, есть ли различия среднего роста   \n",
    "среди взрослых футболистов, хоккеистов и  штангистов. Даны значения роста в трех   \n",
    "группах случайно выбранных спортсменов: Футболисты: 173, 175, 180, 178, 177, 185, 183, 182.  \n",
    "Хоккеисты: 177, 179, 180, 188, 177, 172, 171, 184, 180.  \n",
    "Штангисты: 172, 173, 169, 177, 166, 180, 178, 177, 172, 166, 170. alpha = 0.05.\n"
   ]
  },
  {
   "cell_type": "code",
   "execution_count": 26,
   "id": "ae9229e8",
   "metadata": {},
   "outputs": [],
   "source": [
    "import numpy as np\n",
    "\n",
    "football_p = np.array([173, 175, 180, 178, 177, 185, 183, 182], dtype=np.float64)\n",
    "hockey_p = np.array([177, 179, 180, 188, 177, 172, 171, 184, 180], dtype=np.float64)\n",
    "weightlifters = np.array([172, 173, 169, 177, 166, 180, 178, 177, 172, 166, 170], dtype=np.float64)\n",
    "k=3 \n",
    "n_f = len(football_p)\n",
    "n_h = len(hockey_p)\n",
    "n_w = len(weightlifters)\n",
    "n = n_f + n_h + n_w\n",
    "all_p = np.concatenate([football_p, hockey_p, weightlifters])"
   ]
  },
  {
   "cell_type": "code",
   "execution_count": 73,
   "id": "2e1f3b91",
   "metadata": {},
   "outputs": [
    {
     "data": {
      "image/png": "[encoded data removed]",
      "text/plain": [
       "<Figure size 640x480 with 3 Axes>"
      ]
     },
     "metadata": {},
     "output_type": "display_data"
    }
   ],
   "source": [
    "import matplotlib.pyplot as plt\n",
    "import seaborn as sn\n",
    "\n",
    "fig, ax = plt.subplots(nrows=3, ncols=1)\n",
    "plt.xlim (166, 190)\n",
    "\n",
    "\n",
    "\n",
    "ax1, ax2, ax3 = ax.flatten()\n",
    "ax1.hist(football_p)\n",
    "ax2.hist(hockey_p, color='red')\n",
    "ax3.hist(weightlifters, color='green');"
   ]
  },
  {
   "cell_type": "code",
   "execution_count": 27,
   "id": "c11e272f",
   "metadata": {},
   "outputs": [],
   "source": [
    "footbal_mean = football_p.mean()\n",
    "hockey_mean = hockey_p.mean()\n",
    "weightlifters_mean = weightlifters.mean()\n",
    "all_mean = all_p.mean()"
   ]
  },
  {
   "cell_type": "code",
   "execution_count": 28,
   "id": "cbc04b90",
   "metadata": {},
   "outputs": [
    {
     "name": "stdout",
     "output_type": "stream",
     "text": [
      "Общее среднее по всем выборкам - 176.46, количество всех спортсменов - 28\n",
      "Среднее по выборки футболистов - 179.12, количество всех футболистов - 8\n",
      "Среднее по выборки хокеистов - 178.67, количество всех хокеистов  - 9\n",
      "Среднее по выборки штангистов  - 172.73, количество всех штангистов - 11\n"
     ]
    }
   ],
   "source": [
    "print(f'Общее среднее по всем выборкам - {round(all_mean,2)}, количество всех спортсменов - {n}\\n\\\n",
    "Среднее по выборки футболистов - {round(footbal_mean,2)}, количество всех футболистов - {n_f}\\n\\\n",
    "Среднее по выборки хокеистов - {round(hockey_mean,2)}, количество всех хокеистов  - {n_h}\\n\\\n",
    "Среднее по выборки штангистов  - {round(weightlifters_mean,2)}, количество всех штангистов - {n_w}')"
   ]
  },
  {
   "cell_type": "markdown",
   "id": "3f8e22f7",
   "metadata": {},
   "source": [
    "#### Найдим сумму квадратов отклонений средних по выборкам от общего среднего.\n",
    "(межгруповая сумма квадратов она же факторная)"
   ]
  },
  {
   "cell_type": "code",
   "execution_count": 29,
   "id": "542a7b2d",
   "metadata": {},
   "outputs": [
    {
     "data": {
      "text/plain": [
       "253.91"
      ]
     },
     "execution_count": 29,
     "metadata": {},
     "output_type": "execute_result"
    }
   ],
   "source": [
    "SS_group_mean_vs_general_mean = ((all_mean-hockey_mean)**2)*n_h + \\\n",
    "(all_mean-footbal_mean)**2*n_f +((all_mean-weightlifters_mean)**2)*n_w\n",
    "round(SS_group_mean_vs_general_mean,2)"
   ]
  },
  {
   "cell_type": "markdown",
   "id": "ba009bb0",
   "metadata": {},
   "source": [
    "#### Найдем сумму квадратов отклонений всех наблюдений от общего среднего:\n",
    "(общая сумма квадратов)"
   ]
  },
  {
   "cell_type": "code",
   "execution_count": 25,
   "id": "bee0258f",
   "metadata": {},
   "outputs": [
    {
     "data": {
      "text/plain": [
       "830.96"
      ]
     },
     "execution_count": 25,
     "metadata": {},
     "output_type": "execute_result"
    }
   ],
   "source": [
    "SS_general = np.sum((all_mean-all_p)**2)\n",
    "round(SS_general,2)"
   ]
  },
  {
   "cell_type": "markdown",
   "id": "435fd9f4",
   "metadata": {},
   "source": [
    "#### Найдем  остаточную сумму квадратов отклонений\n",
    "(сумма квадратов отклоний по выборкам внутри каждой выборки вокруг своего среднего выборки)"
   ]
  },
  {
   "cell_type": "code",
   "execution_count": 42,
   "id": "9269c017",
   "metadata": {
    "scrolled": true
   },
   "outputs": [
    {
     "data": {
      "text/plain": [
       "577.06"
      ]
     },
     "execution_count": 42,
     "metadata": {},
     "output_type": "execute_result"
    }
   ],
   "source": [
    "SS_tot_sample_inner = np.sum((footbal_mean-football_p)**2) + np.sum((hockey_mean-hockey_p)**2) \\\n",
    "+ np.sum((weightlifters_mean-weightlifters)**2)\n",
    "round(SS_e,2)"
   ]
  },
  {
   "cell_type": "markdown",
   "id": "35c4d874",
   "metadata": {},
   "source": [
    "Проверим равенство \n",
    "SS_tot_sample_inner + SS_group_mean_vs_general_mean = SS_general"
   ]
  },
  {
   "cell_type": "code",
   "execution_count": 43,
   "id": "c91e73c4",
   "metadata": {},
   "outputs": [
    {
     "data": {
      "text/plain": [
       "True"
      ]
     },
     "execution_count": 43,
     "metadata": {},
     "output_type": "execute_result"
    }
   ],
   "source": [
    "round(SS_tot_sample_inner,5) + round(SS_group_mean_vs_general_mean,5) == round(SS_general,5)"
   ]
  },
  {
   "cell_type": "code",
   "execution_count": 44,
   "id": "0dc43e96",
   "metadata": {
    "scrolled": true
   },
   "outputs": [
    {
     "data": {
      "text/plain": [
       "(830.964285714286, 830.9642857142854)"
      ]
     },
     "execution_count": 44,
     "metadata": {},
     "output_type": "execute_result"
    }
   ],
   "source": [
    "SS_tot_sample_inner + SS_group_mean_vs_general_mean, SS_general"
   ]
  },
  {
   "cell_type": "markdown",
   "id": "272414f6",
   "metadata": {},
   "source": [
    "#### Найдем общую дисперсию\n"
   ]
  },
  {
   "cell_type": "code",
   "execution_count": 45,
   "id": "95373ec4",
   "metadata": {},
   "outputs": [
    {
     "data": {
      "text/plain": [
       "30.78"
      ]
     },
     "execution_count": 45,
     "metadata": {},
     "output_type": "execute_result"
    }
   ],
   "source": [
    "dispersion_general = SS_general /(n-1)\n",
    "round(dispersion_general,2)"
   ]
  },
  {
   "cell_type": "markdown",
   "id": "80a0a563",
   "metadata": {},
   "source": [
    "#### Найдем факторную/межгрупавую дисперсию"
   ]
  },
  {
   "cell_type": "code",
   "execution_count": 75,
   "id": "3572e3a7",
   "metadata": {
    "scrolled": true
   },
   "outputs": [
    {
     "data": {
      "text/plain": [
       "126.95"
      ]
     },
     "execution_count": 75,
     "metadata": {},
     "output_type": "execute_result"
    }
   ],
   "source": [
    "dispersion_group_mean_vs_general_mean = SS_group_mean_vs_general_mean/(k-1)\n",
    "round(dispersion_group_mean_vs_general_mean,2)"
   ]
  },
  {
   "cell_type": "markdown",
   "id": "f3bfb491",
   "metadata": {},
   "source": [
    "#### Найдем остаточную дисперсию"
   ]
  },
  {
   "cell_type": "code",
   "execution_count": 76,
   "id": "1454967e",
   "metadata": {},
   "outputs": [
    {
     "data": {
      "text/plain": [
       "23.08"
      ]
     },
     "execution_count": 76,
     "metadata": {},
     "output_type": "execute_result"
    }
   ],
   "source": [
    "dispersion_group_mean_vs_general_mean = SS_group_mean_vs_general_mean/(n-k)\n",
    "dispersion_group_mean_vs_general_mean"
   ]
  },
  {
   "cell_type": "code",
   "execution_count": 74,
   "id": "52ffcfc6",
   "metadata": {
    "scrolled": true
   },
   "outputs": [
    {
     "data": {
      "text/plain": [
       "5.5"
      ]
     },
     "execution_count": 74,
     "metadata": {},
     "output_type": "execute_result"
    }
   ],
   "source": [
    "F_h = dispersion_group_mean_vs_general_mean / dispersion_tot_sample_inner\n",
    "round(F_h,2)"
   ]
  },
  {
   "cell_type": "markdown",
   "id": "8b36a212",
   "metadata": {},
   "source": [
    "Найдем значение $F_{крит}$ в таблице критических точек распределения Фишера-Снедекора для заданного уровня значимости $\\alpha = 0.05$ и двух степеней свободы: \n",
    "\n",
    "$df_{межгруповое} = k - 1 = 3 - 1 = 2$ и $df_{внутригруповое} = n - k = 28 - 3 = 3=25$.\n",
    "\n",
    "F_табл = 4,24"
   ]
  },
  {
   "cell_type": "markdown",
   "id": "ce5176bb",
   "metadata": {},
   "source": [
    "Для данных значений F_табл=4.24. Так как F_пасчитаное (F_h) > F_табл, различие средних  в трех группах статистически значимо."
   ]
  },
  {
   "cell_type": "code",
   "execution_count": 52,
   "id": "cf9eb65e",
   "metadata": {},
   "outputs": [
    {
     "data": {
      "text/plain": [
       "0.30555761769498"
      ]
     },
     "execution_count": 52,
     "metadata": {},
     "output_type": "execute_result"
    }
   ],
   "source": [
    "eta2 = SS_group_mean_vs_general_mean / SS_general\n",
    "eta2"
   ]
  },
  {
   "cell_type": "markdown",
   "id": "9619a5fa",
   "metadata": {},
   "source": [
    "Значение  η2  больше 0.3 — значит, различие средних зарплат в трех группах является статистически значимым хотя не слишком сильно значимыми"
   ]
  },
  {
   "cell_type": "markdown",
   "id": "6836053c",
   "metadata": {},
   "source": [
    "### Вывод\n",
    "Значение η2 а так же сравнение с F_h с распределение Фишера-Снедекора для заданного уровня значимости $\\alpha = 0.05$\n",
    "говорит что выборки отличаются друг от друга однако данный вывод не говорит о том отличается ли 1 от 2 или 2 от 1..."
   ]
  },
  {
   "cell_type": "code",
   "execution_count": null,
   "id": "6c293bf8",
   "metadata": {},
   "outputs": [],
   "source": []
  }
 ],
 "metadata": {
  "kernelspec": {
   "display_name": "Python 3 (ipykernel)",
   "language": "python",
   "name": "python3"
  },
  "language_info": {
   "codemirror_mode": {
    "name": "ipython",
    "version": 3
   },
   "file_extension": ".py",
   "mimetype": "text/x-python",
   "name": "python",
   "nbconvert_exporter": "python",
   "pygments_lexer": "ipython3",
   "version": "3.9.13"
  }
 },
 "nbformat": 4,
 "nbformat_minor": 5
}
